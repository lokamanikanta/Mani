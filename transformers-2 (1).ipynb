{
 "cells": [
  {
   "cell_type": "code",
   "execution_count": 23,
   "metadata": {
    "execution": {
     "iopub.execute_input": "2024-05-09T06:30:50.699957Z",
     "iopub.status.busy": "2024-05-09T06:30:50.699591Z",
     "iopub.status.idle": "2024-05-09T06:30:50.704919Z",
     "shell.execute_reply": "2024-05-09T06:30:50.704017Z",
     "shell.execute_reply.started": "2024-05-09T06:30:50.699932Z"
    }
   },
   "outputs": [],
   "source": [
    "import torch \n",
    "import torch.nn as nn\n",
    "import torch.optim as optim\n",
    "import torch.utils.data as data\n",
    "import math\n",
    "import copy"
   ]
  },
  {
   "cell_type": "code",
   "execution_count": 24,
   "metadata": {
    "execution": {
     "iopub.execute_input": "2024-05-09T06:30:50.710332Z",
     "iopub.status.busy": "2024-05-09T06:30:50.709968Z",
     "iopub.status.idle": "2024-05-09T06:30:50.723094Z",
     "shell.execute_reply": "2024-05-09T06:30:50.722097Z",
     "shell.execute_reply.started": "2024-05-09T06:30:50.710303Z"
    }
   },
   "outputs": [],
   "source": [
    "# Now, we’ll define the basic building blocks of the Transformer model.\n",
    "# Multi-Head Attention\n",
    "\n",
    "class MultiHeadAttention(nn.Module):\n",
    "    def __init__(self, d_model, num_heads):\n",
    "        super(MultiHeadAttention, self).__init__()\n",
    "        assert d_model % num_heads == 0, \"d_model must be divisible by num_heads\"\n",
    "        \n",
    "        self.d_model = d_model\n",
    "        self.num_heads = num_heads\n",
    "        self.d_k = d_model // num_heads\n",
    "        \n",
    "        self.W_q = nn.Linear(d_model, d_model)\n",
    "        self.W_k = nn.Linear(d_model, d_model)\n",
    "        self.W_v = nn.Linear(d_model, d_model)\n",
    "        self.W_o = nn.Linear(d_model, d_model)\n",
    "        \n",
    "    def scaled_dot_product_attention(self, Q, K, V, mask=None):\n",
    "        attn_scores = torch.matmul(Q, K.transpose(-2, -1)) / math.sqrt(self.d_k)\n",
    "        if mask is not None:\n",
    "            attn_scores = attn_scores.masked_fill(mask == 0, -1e9)\n",
    "        attn_probs = torch.softmax(attn_scores, dim=-1)\n",
    "        output = torch.matmul(attn_probs, V)\n",
    "        return output\n",
    "        \n",
    "    def split_heads(self, x):\n",
    "        batch_size, seq_length, d_model = x.size()\n",
    "        return x.view(batch_size, seq_length, self.num_heads, self.d_k).transpose(1, 2)\n",
    "        \n",
    "    def combine_heads(self, x):\n",
    "        batch_size, _, seq_length, d_k = x.size()\n",
    "        return x.transpose(1, 2).contiguous().view(batch_size, seq_length, self.d_model)\n",
    "        \n",
    "    def forward(self, Q, K, V, mask=None):\n",
    "        Q = self.split_heads(self.W_q(Q))\n",
    "        K = self.split_heads(self.W_k(K))\n",
    "        V = self.split_heads(self.W_v(V))\n",
    "        \n",
    "        attn_output = self.scaled_dot_product_attention(Q, K, V, mask)\n",
    "        output = self.W_o(self.combine_heads(attn_output))\n",
    "        return output"
   ]
  },
  {
   "cell_type": "code",
   "execution_count": 25,
   "metadata": {
    "execution": {
     "iopub.execute_input": "2024-05-09T06:30:50.724828Z",
     "iopub.status.busy": "2024-05-09T06:30:50.724565Z",
     "iopub.status.idle": "2024-05-09T06:30:50.738693Z",
     "shell.execute_reply": "2024-05-09T06:30:50.737875Z",
     "shell.execute_reply.started": "2024-05-09T06:30:50.724806Z"
    }
   },
   "outputs": [],
   "source": [
    "# Position-wise Feed-Forward Networks....\n",
    "\n",
    "class PositionWiseFeedForward(nn.Module):\n",
    "    def __init__(self, d_model, d_ff):\n",
    "        super(PositionWiseFeedForward, self).__init__()\n",
    "        self.fc1 = nn.Linear(d_model, d_ff)\n",
    "        self.fc2 = nn.Linear(d_ff, d_model)\n",
    "        self.relu = nn.ReLU()\n",
    "\n",
    "    def forward(self, x):\n",
    "        return self.fc2(self.relu(self.fc1(x)))"
   ]
  },
  {
   "cell_type": "code",
   "execution_count": 26,
   "metadata": {
    "execution": {
     "iopub.execute_input": "2024-05-09T06:30:50.842223Z",
     "iopub.status.busy": "2024-05-09T06:30:50.841236Z",
     "iopub.status.idle": "2024-05-09T06:30:50.851694Z",
     "shell.execute_reply": "2024-05-09T06:30:50.850497Z",
     "shell.execute_reply.started": "2024-05-09T06:30:50.842187Z"
    }
   },
   "outputs": [],
   "source": [
    "# Positional Encoding...\n",
    "\n",
    "class PositionalEncoding(nn.Module):\n",
    "    def __init__(self, d_model, max_seq_length):\n",
    "        super(PositionalEncoding, self).__init__()\n",
    "        \n",
    "        pe = torch.zeros(max_seq_length, d_model)\n",
    "        position = torch.arange(0, max_seq_length, dtype=torch.float).unsqueeze(1)\n",
    "        div_term = torch.exp(torch.arange(0, d_model, 2).float() * -(math.log(10000.0) / d_model))\n",
    "        \n",
    "        pe[:, 0::2] = torch.sin(position * div_term)\n",
    "        pe[:, 1::2] = torch.cos(position * div_term)\n",
    "        \n",
    "        self.register_buffer('pe', pe.unsqueeze(0))\n",
    "        \n",
    "    def forward(self, x):\n",
    "        return x + self.pe[:, :x.size(1)]"
   ]
  },
  {
   "cell_type": "markdown",
   "metadata": {},
   "source": [
    "Now, we’ll build the Encoder and Decoder layers.Encoder Layer... An Encoder layer consists of a Multi-Head Attention layer, a Position-wise Feed-Forward layer, and two Layer Normalization layers"
   ]
  },
  {
   "cell_type": "code",
   "execution_count": 27,
   "metadata": {
    "execution": {
     "iopub.execute_input": "2024-05-09T06:30:50.854810Z",
     "iopub.status.busy": "2024-05-09T06:30:50.853952Z",
     "iopub.status.idle": "2024-05-09T06:30:50.864299Z",
     "shell.execute_reply": "2024-05-09T06:30:50.863294Z",
     "shell.execute_reply.started": "2024-05-09T06:30:50.854772Z"
    }
   },
   "outputs": [],
   "source": [
    "class EncoderLayer(nn.Module):\n",
    "    def __init__(self, d_model, num_heads, d_ff, dropout):\n",
    "        super(EncoderLayer, self).__init__()\n",
    "        self.self_attn = MultiHeadAttention(d_model, num_heads)\n",
    "        self.feed_forward = PositionWiseFeedForward(d_model, d_ff)\n",
    "        self.norm1 = nn.LayerNorm(d_model)\n",
    "        self.norm2 = nn.LayerNorm(d_model)\n",
    "        self.dropout = nn.Dropout(dropout)\n",
    "        \n",
    "    def forward(self, x, mask):\n",
    "        attn_output = self.self_attn(x, x, x, mask)\n",
    "        x = self.norm1(x + self.dropout(attn_output))\n",
    "        ff_output = self.feed_forward(x)\n",
    "        x = self.norm2(x + self.dropout(ff_output))\n",
    "        return x\n",
    "    \n",
    "    \n",
    "    ## The EncoderLayer class initializes with input parameters and components, including a MultiHeadAttention module, a PositionWiseFeedForward module, two layer normalization modules, and a dropout layer.\n",
    "    #The forward methods computes the encoder layer output by applying self-attention, adding the attention output to the input tensor, and normalizing the result. \n",
    "    #Then, it computes the position-wise feed-forward output, combines it with the normalized self-attention output, and normalizes the final result before returning the processed tensor."
   ]
  },
  {
   "cell_type": "markdown",
   "metadata": {},
   "source": [
    "Decoder Layer. A Decoder layer consists of two Multi-Head Attention layers, a Position-wise Feed-Forward layer, and three Layer Normalization layers"
   ]
  },
  {
   "cell_type": "code",
   "execution_count": 28,
   "metadata": {
    "execution": {
     "iopub.execute_input": "2024-05-09T06:30:50.943609Z",
     "iopub.status.busy": "2024-05-09T06:30:50.942947Z",
     "iopub.status.idle": "2024-05-09T06:30:50.961006Z",
     "shell.execute_reply": "2024-05-09T06:30:50.959825Z",
     "shell.execute_reply.started": "2024-05-09T06:30:50.943567Z"
    }
   },
   "outputs": [],
   "source": [
    "class DecoderLayer(nn.Module):\n",
    "    def __init__(self, d_model, num_heads, d_ff, dropout):\n",
    "        super(DecoderLayer, self).__init__()\n",
    "        self.self_attn = MultiHeadAttention(d_model, num_heads)\n",
    "        self.cross_attn = MultiHeadAttention(d_model, num_heads)\n",
    "        self.feed_forward = PositionWiseFeedForward(d_model, d_ff)\n",
    "        self.norm1 = nn.LayerNorm(d_model)\n",
    "        self.norm2 = nn.LayerNorm(d_model)\n",
    "        self.norm3 = nn.LayerNorm(d_model)\n",
    "        self.dropout = nn.Dropout(dropout)\n",
    "        \n",
    "    def forward(self, x, enc_output, src_mask, tgt_mask):\n",
    "        attn_output = self.self_attn(x, x, x, tgt_mask)\n",
    "        x = self.norm1(x + self.dropout(attn_output))\n",
    "        attn_output = self.cross_attn(x, enc_output, enc_output, src_mask)\n",
    "        x = self.norm2(x + self.dropout(attn_output))\n",
    "        ff_output = self.feed_forward(x)\n",
    "        x = self.norm3(x + self.dropout(ff_output))\n",
    "        return x\n",
    "    \n",
    "    # The DecoderLayer initializes with input parameters and components such as \n",
    "    # MultiHeadAttention modules for masked self-attention and cross-attention, \n",
    "    #a PositionWiseFeedForward module, three layer normalization modules, and a dropout layer."
   ]
  },
  {
   "cell_type": "markdown",
   "metadata": {},
   "source": [
    "Now, let’s combine the Encoder and Decoder layers to create the complete Transformer model.\n",
    "Transformer Model"
   ]
  },
  {
   "cell_type": "code",
   "execution_count": 29,
   "metadata": {
    "execution": {
     "iopub.execute_input": "2024-05-09T06:30:51.027535Z",
     "iopub.status.busy": "2024-05-09T06:30:51.027197Z",
     "iopub.status.idle": "2024-05-09T06:30:51.042379Z",
     "shell.execute_reply": "2024-05-09T06:30:51.041392Z",
     "shell.execute_reply.started": "2024-05-09T06:30:51.027507Z"
    }
   },
   "outputs": [],
   "source": [
    "# Merging it all together:\n",
    "\n",
    "class Transformer(nn.Module):\n",
    "    def __init__(self, src_vocab_size, tgt_vocab_size, d_model, num_heads, num_layers, d_ff, max_seq_length, dropout):\n",
    "        super(Transformer, self).__init__()\n",
    "        self.encoder_embedding = nn.Embedding(src_vocab_size, d_model)\n",
    "        self.decoder_embedding = nn.Embedding(tgt_vocab_size, d_model)\n",
    "        self.positional_encoding = PositionalEncoding(d_model, max_seq_length)\n",
    "\n",
    "        self.encoder_layers = nn.ModuleList([EncoderLayer(d_model, num_heads, d_ff, dropout) for _ in range(num_layers)])\n",
    "        self.decoder_layers = nn.ModuleList([DecoderLayer(d_model, num_heads, d_ff, dropout) for _ in range(num_layers)])\n",
    "\n",
    "        self.fc = nn.Linear(d_model, tgt_vocab_size)\n",
    "        self.dropout = nn.Dropout(dropout)\n",
    "\n",
    "    def generate_mask(self, src, tgt):\n",
    "        src_mask = (src != 0).unsqueeze(1).unsqueeze(2)\n",
    "        tgt_mask = (tgt != 0).unsqueeze(1).unsqueeze(3)\n",
    "        seq_length = tgt.size(1)\n",
    "        nopeak_mask = (1 - torch.triu(torch.ones(1, seq_length, seq_length), diagonal=1)).bool()\n",
    "        tgt_mask = tgt_mask & nopeak_mask\n",
    "        return src_mask, tgt_mask\n",
    "\n",
    "    def forward(self, src, tgt):\n",
    "        src_mask, tgt_mask = self.generate_mask(src, tgt)\n",
    "        src_embedded = self.dropout(self.positional_encoding(self.encoder_embedding(src)))\n",
    "        tgt_embedded = self.dropout(self.positional_encoding(self.decoder_embedding(tgt)))\n",
    "\n",
    "        enc_output = src_embedded\n",
    "        for enc_layer in self.encoder_layers:\n",
    "            enc_output = enc_layer(enc_output, src_mask)\n",
    "\n",
    "        dec_output = tgt_embedded\n",
    "        for dec_layer in self.decoder_layers:\n",
    "            dec_output = dec_layer(dec_output, enc_output, src_mask, tgt_mask)\n",
    "\n",
    "        output = self.fc(dec_output)\n",
    "        return output\n",
    "    \n",
    "    # The Transformer class combines the previously defined modules to create a complete Transformer model. During initialization, \n",
    "    #the Transformer module sets up input parameters and initializes various components, including embedding layers for source and target sequences, \n",
    "    # a PositionalEncoding module, EncoderLayer and DecoderLayer modules to create stacked layers, a linear layer for projecting decoder output, and a dropout layer."
   ]
  },
  {
   "cell_type": "markdown",
   "metadata": {},
   "source": [
    "Preparing Sample Data: \n",
    "In this example, we will create a toy dataset for demonstration purposes. In practice, you would use a larger dataset, preprocess the text, and create vocabulary mappings for source and target languages."
   ]
  },
  {
   "cell_type": "code",
   "execution_count": 30,
   "metadata": {
    "execution": {
     "iopub.execute_input": "2024-05-09T06:30:51.194434Z",
     "iopub.status.busy": "2024-05-09T06:30:51.193928Z",
     "iopub.status.idle": "2024-05-09T06:30:51.666009Z",
     "shell.execute_reply": "2024-05-09T06:30:51.665070Z",
     "shell.execute_reply.started": "2024-05-09T06:30:51.194393Z"
    }
   },
   "outputs": [],
   "source": [
    "src_vocab_size = 5000\n",
    "tgt_vocab_size = 5000\n",
    "d_model = 512\n",
    "num_heads = 8\n",
    "num_layers = 6\n",
    "d_ff = 2048\n",
    "max_seq_length = 100\n",
    "dropout = 0.1\n",
    "\n",
    "transformer = Transformer(src_vocab_size, tgt_vocab_size, d_model, num_heads, num_layers, d_ff, max_seq_length, dropout)\n",
    "\n",
    "# Generate random sample data\n",
    "src_data = torch.randint(1, src_vocab_size, (64, max_seq_length))  # (batch_size, seq_length)\n",
    "tgt_data = torch.randint(1, tgt_vocab_size, (64, max_seq_length))  # (batch_size, seq_length)\n"
   ]
  },
  {
   "cell_type": "markdown",
   "metadata": {},
   "source": [
    "Training the Model: Now we’ll train the model using the sample data. In practice, you would use a larger dataset and split it into training and validation sets."
   ]
  },
  {
   "cell_type": "code",
   "execution_count": 32,
   "metadata": {
    "execution": {
     "iopub.execute_input": "2024-05-09T06:39:10.244110Z",
     "iopub.status.busy": "2024-05-09T06:39:10.243736Z",
     "iopub.status.idle": "2024-05-09T06:57:11.767161Z",
     "shell.execute_reply": "2024-05-09T06:57:11.766082Z",
     "shell.execute_reply.started": "2024-05-09T06:39:10.244079Z"
    }
   },
   "outputs": [
    {
     "name": "stdout",
     "output_type": "stream",
     "text": [
      "Epoch: 1, Loss: 8.682790756225586, Time: 11.32 seconds\n",
      "Epoch: 2, Loss: 8.556096076965332, Time: 10.49 seconds\n",
      "Epoch: 3, Loss: 8.484977722167969, Time: 10.43 seconds\n",
      "Epoch: 4, Loss: 8.43083667755127, Time: 11.19 seconds\n",
      "Epoch: 5, Loss: 8.371709823608398, Time: 10.53 seconds\n",
      "Epoch: 6, Loss: 8.308924674987793, Time: 10.62 seconds\n",
      "Epoch: 7, Loss: 8.228299140930176, Time: 11.18 seconds\n",
      "Epoch: 8, Loss: 8.145415306091309, Time: 10.60 seconds\n",
      "Epoch: 9, Loss: 8.061873435974121, Time: 10.58 seconds\n",
      "Epoch: 10, Loss: 7.98270320892334, Time: 10.99 seconds\n",
      "Epoch: 11, Loss: 7.906863212585449, Time: 10.68 seconds\n",
      "Epoch: 12, Loss: 7.819901943206787, Time: 10.52 seconds\n",
      "Epoch: 13, Loss: 7.739400386810303, Time: 11.11 seconds\n",
      "Epoch: 14, Loss: 7.647138595581055, Time: 10.54 seconds\n",
      "Epoch: 15, Loss: 7.566827774047852, Time: 10.54 seconds\n",
      "Epoch: 16, Loss: 7.487015724182129, Time: 11.22 seconds\n",
      "Epoch: 17, Loss: 7.405035972595215, Time: 10.66 seconds\n",
      "Epoch: 18, Loss: 7.321777820587158, Time: 10.56 seconds\n",
      "Epoch: 19, Loss: 7.237445831298828, Time: 11.31 seconds\n",
      "Epoch: 20, Loss: 7.163150787353516, Time: 10.60 seconds\n",
      "Epoch: 21, Loss: 7.083599090576172, Time: 10.69 seconds\n",
      "Epoch: 22, Loss: 6.9983344078063965, Time: 11.26 seconds\n",
      "Epoch: 23, Loss: 6.922118663787842, Time: 10.70 seconds\n",
      "Epoch: 24, Loss: 6.843971252441406, Time: 10.68 seconds\n",
      "Epoch: 25, Loss: 6.769287109375, Time: 11.11 seconds\n",
      "Epoch: 26, Loss: 6.695285320281982, Time: 10.63 seconds\n",
      "Epoch: 27, Loss: 6.619832992553711, Time: 10.52 seconds\n",
      "Epoch: 28, Loss: 6.5476298332214355, Time: 11.08 seconds\n",
      "Epoch: 29, Loss: 6.4808855056762695, Time: 10.62 seconds\n",
      "Epoch: 30, Loss: 6.411684036254883, Time: 11.21 seconds\n",
      "Epoch: 31, Loss: 6.330721378326416, Time: 10.73 seconds\n",
      "Epoch: 32, Loss: 6.2703094482421875, Time: 10.44 seconds\n",
      "Epoch: 33, Loss: 6.1963276863098145, Time: 11.10 seconds\n",
      "Epoch: 34, Loss: 6.126614093780518, Time: 10.51 seconds\n",
      "Epoch: 35, Loss: 6.056398391723633, Time: 10.62 seconds\n",
      "Epoch: 36, Loss: 6.002811908721924, Time: 11.02 seconds\n",
      "Epoch: 37, Loss: 5.932707786560059, Time: 10.62 seconds\n",
      "Epoch: 38, Loss: 5.868642330169678, Time: 10.63 seconds\n",
      "Epoch: 39, Loss: 5.815391540527344, Time: 11.30 seconds\n",
      "Epoch: 40, Loss: 5.7502055168151855, Time: 10.56 seconds\n",
      "Epoch: 41, Loss: 5.683010578155518, Time: 10.71 seconds\n",
      "Epoch: 42, Loss: 5.615143299102783, Time: 11.19 seconds\n",
      "Epoch: 43, Loss: 5.560957431793213, Time: 10.54 seconds\n",
      "Epoch: 44, Loss: 5.4951348304748535, Time: 10.49 seconds\n",
      "Epoch: 45, Loss: 5.439335346221924, Time: 11.10 seconds\n",
      "Epoch: 46, Loss: 5.380615234375, Time: 10.57 seconds\n",
      "Epoch: 47, Loss: 5.313480854034424, Time: 10.59 seconds\n",
      "Epoch: 48, Loss: 5.262035846710205, Time: 11.64 seconds\n",
      "Epoch: 49, Loss: 5.2017502784729, Time: 10.63 seconds\n",
      "Epoch: 50, Loss: 5.14498233795166, Time: 10.78 seconds\n",
      "Epoch: 51, Loss: 5.081679344177246, Time: 11.23 seconds\n",
      "Epoch: 52, Loss: 5.035037517547607, Time: 10.57 seconds\n",
      "Epoch: 53, Loss: 4.975642204284668, Time: 10.76 seconds\n",
      "Epoch: 54, Loss: 4.925529479980469, Time: 11.22 seconds\n",
      "Epoch: 55, Loss: 4.877328395843506, Time: 10.56 seconds\n",
      "Epoch: 56, Loss: 4.8186187744140625, Time: 10.56 seconds\n",
      "Epoch: 57, Loss: 4.7585344314575195, Time: 11.20 seconds\n",
      "Epoch: 58, Loss: 4.709566593170166, Time: 10.73 seconds\n",
      "Epoch: 59, Loss: 4.656797885894775, Time: 10.70 seconds\n",
      "Epoch: 60, Loss: 4.60109281539917, Time: 11.24 seconds\n",
      "Epoch: 61, Loss: 4.549282550811768, Time: 10.64 seconds\n",
      "Epoch: 62, Loss: 4.49217414855957, Time: 10.58 seconds\n",
      "Epoch: 63, Loss: 4.45698881149292, Time: 11.15 seconds\n",
      "Epoch: 64, Loss: 4.408571720123291, Time: 10.63 seconds\n",
      "Epoch: 65, Loss: 4.351941108703613, Time: 10.57 seconds\n",
      "Epoch: 66, Loss: 4.2953200340271, Time: 11.27 seconds\n",
      "Epoch: 67, Loss: 4.247464179992676, Time: 10.65 seconds\n",
      "Epoch: 68, Loss: 4.192214488983154, Time: 10.82 seconds\n",
      "Epoch: 69, Loss: 4.154794216156006, Time: 11.24 seconds\n",
      "Epoch: 70, Loss: 4.0974626541137695, Time: 10.67 seconds\n",
      "Epoch: 71, Loss: 4.055038928985596, Time: 10.67 seconds\n",
      "Epoch: 72, Loss: 4.00008487701416, Time: 11.32 seconds\n",
      "Epoch: 73, Loss: 3.9518959522247314, Time: 10.64 seconds\n",
      "Epoch: 74, Loss: 3.9038116931915283, Time: 10.79 seconds\n",
      "Epoch: 75, Loss: 3.8491756916046143, Time: 11.07 seconds\n",
      "Epoch: 76, Loss: 3.8082008361816406, Time: 10.61 seconds\n",
      "Epoch: 77, Loss: 3.76042103767395, Time: 10.55 seconds\n",
      "Epoch: 78, Loss: 3.710651397705078, Time: 11.26 seconds\n",
      "Epoch: 79, Loss: 3.659626007080078, Time: 10.55 seconds\n",
      "Epoch: 80, Loss: 3.6094353199005127, Time: 10.65 seconds\n",
      "Epoch: 81, Loss: 3.578958749771118, Time: 11.40 seconds\n",
      "Epoch: 82, Loss: 3.5293264389038086, Time: 10.56 seconds\n",
      "Epoch: 83, Loss: 3.472385883331299, Time: 10.59 seconds\n",
      "Epoch: 84, Loss: 3.4345219135284424, Time: 11.40 seconds\n",
      "Epoch: 85, Loss: 3.3920774459838867, Time: 10.69 seconds\n",
      "Epoch: 86, Loss: 3.3435146808624268, Time: 10.54 seconds\n",
      "Epoch: 87, Loss: 3.2997026443481445, Time: 11.24 seconds\n",
      "Epoch: 88, Loss: 3.2441418170928955, Time: 10.66 seconds\n",
      "Epoch: 89, Loss: 3.205015182495117, Time: 10.55 seconds\n",
      "Epoch: 90, Loss: 3.161868095397949, Time: 11.35 seconds\n",
      "Epoch: 91, Loss: 3.1162614822387695, Time: 10.61 seconds\n",
      "Epoch: 92, Loss: 3.0778863430023193, Time: 10.59 seconds\n",
      "Epoch: 93, Loss: 3.0351290702819824, Time: 11.07 seconds\n",
      "Epoch: 94, Loss: 2.9940176010131836, Time: 10.58 seconds\n",
      "Epoch: 95, Loss: 2.952867031097412, Time: 10.55 seconds\n",
      "Epoch: 96, Loss: 2.908198118209839, Time: 11.17 seconds\n",
      "Epoch: 97, Loss: 2.860598087310791, Time: 10.54 seconds\n",
      "Epoch: 98, Loss: 2.815361976623535, Time: 10.63 seconds\n",
      "Epoch: 99, Loss: 2.7760050296783447, Time: 11.08 seconds\n",
      "Epoch: 100, Loss: 2.733001947402954, Time: 10.47 seconds\n"
     ]
    }
   ],
   "source": [
    "import time\n",
    "\n",
    "criterion = nn.CrossEntropyLoss(ignore_index=0)\n",
    "optimizer = optim.Adam(transformer.parameters(), lr=0.0001, betas=(0.9, 0.98), eps=1e-9)\n",
    "\n",
    "transformer.train()\n",
    "\n",
    "for epoch in range(100):\n",
    "    optimizer.zero_grad()\n",
    "    \n",
    "    start_time = time.time()  # Record start time\n",
    "    \n",
    "    output = transformer(src_data, tgt_data[:, :-1])\n",
    "    loss = criterion(output.contiguous().view(-1, tgt_vocab_size), tgt_data[:, 1:].contiguous().view(-1))\n",
    "    loss.backward()\n",
    "    optimizer.step()\n",
    "    \n",
    "    end_time = time.time()  # Record end time\n",
    "    epoch_time = end_time - start_time  # Calculate epoch time\n",
    "    \n",
    "    print(f\"Epoch: {epoch+1}, Loss: {loss.item()}, Time: {epoch_time:.2f} seconds\")\n"
   ]
  },
  {
   "cell_type": "code",
   "execution_count": null,
   "metadata": {},
   "outputs": [],
   "source": []
  }
 ],
 "metadata": {
  "kaggle": {
   "accelerator": "nvidiaTeslaT4",
   "dataSources": [],
   "dockerImageVersionId": 30699,
   "isGpuEnabled": true,
   "isInternetEnabled": true,
   "language": "python",
   "sourceType": "notebook"
  },
  "kernelspec": {
   "display_name": "Python 3 (ipykernel)",
   "language": "python",
   "name": "python3"
  },
  "language_info": {
   "codemirror_mode": {
    "name": "ipython",
    "version": 3
   },
   "file_extension": ".py",
   "mimetype": "text/x-python",
   "name": "python",
   "nbconvert_exporter": "python",
   "pygments_lexer": "ipython3",
   "version": "3.11.7"
  }
 },
 "nbformat": 4,
 "nbformat_minor": 4
}
