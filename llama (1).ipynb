{
 "cells": [
  {
   "cell_type": "code",
   "execution_count": 1,
   "id": "8c76bcd3-8443-41bf-8d44-102ecf7db56b",
   "metadata": {},
   "outputs": [
    {
     "name": "stdout",
     "output_type": "stream",
     "text": [
      "Requirement already satisfied: llama-index in d:\\ml-3\\lib\\site-packages (0.10.40)\n",
      "Requirement already satisfied: llama-index-agent-openai<0.3.0,>=0.1.4 in d:\\ml-3\\lib\\site-packages (from llama-index) (0.2.5)\n",
      "Requirement already satisfied: llama-index-cli<0.2.0,>=0.1.2 in d:\\ml-3\\lib\\site-packages (from llama-index) (0.1.12)\n",
      "Requirement already satisfied: llama-index-core<0.11.0,>=0.10.40 in d:\\ml-3\\lib\\site-packages (from llama-index) (0.10.40)\n",
      "Requirement already satisfied: llama-index-embeddings-openai<0.2.0,>=0.1.5 in d:\\ml-3\\lib\\site-packages (from llama-index) (0.1.10)\n",
      "Requirement already satisfied: llama-index-indices-managed-llama-cloud<0.2.0,>=0.1.2 in d:\\ml-3\\lib\\site-packages (from llama-index) (0.1.6)\n",
      "Requirement already satisfied: llama-index-legacy<0.10.0,>=0.9.48 in d:\\ml-3\\lib\\site-packages (from llama-index) (0.9.48)\n",
      "Requirement already satisfied: llama-index-llms-openai<0.2.0,>=0.1.13 in d:\\ml-3\\lib\\site-packages (from llama-index) (0.1.21)\n",
      "Requirement already satisfied: llama-index-multi-modal-llms-openai<0.2.0,>=0.1.3 in d:\\ml-3\\lib\\site-packages (from llama-index) (0.1.6)\n",
      "Requirement already satisfied: llama-index-program-openai<0.2.0,>=0.1.3 in d:\\ml-3\\lib\\site-packages (from llama-index) (0.1.6)\n",
      "Requirement already satisfied: llama-index-question-gen-openai<0.2.0,>=0.1.2 in d:\\ml-3\\lib\\site-packages (from llama-index) (0.1.3)\n",
      "Requirement already satisfied: llama-index-readers-file<0.2.0,>=0.1.4 in d:\\ml-3\\lib\\site-packages (from llama-index) (0.1.23)\n",
      "Requirement already satisfied: llama-index-readers-llama-parse<0.2.0,>=0.1.2 in d:\\ml-3\\lib\\site-packages (from llama-index) (0.1.4)\n",
      "Requirement already satisfied: openai>=1.14.0 in d:\\ml-3\\lib\\site-packages (from llama-index-agent-openai<0.3.0,>=0.1.4->llama-index) (1.30.5)\n",
      "Requirement already satisfied: PyYAML>=6.0.1 in d:\\ml-3\\lib\\site-packages (from llama-index-core<0.11.0,>=0.10.40->llama-index) (6.0.1)\n",
      "Requirement already satisfied: SQLAlchemy>=1.4.49 in d:\\ml-3\\lib\\site-packages (from SQLAlchemy[asyncio]>=1.4.49->llama-index-core<0.11.0,>=0.10.40->llama-index) (2.0.25)\n",
      "Requirement already satisfied: aiohttp<4.0.0,>=3.8.6 in d:\\ml-3\\lib\\site-packages (from llama-index-core<0.11.0,>=0.10.40->llama-index) (3.9.3)\n",
      "Requirement already satisfied: dataclasses-json in d:\\ml-3\\lib\\site-packages (from llama-index-core<0.11.0,>=0.10.40->llama-index) (0.6.6)\n",
      "Requirement already satisfied: deprecated>=1.2.9.3 in d:\\ml-3\\lib\\site-packages (from llama-index-core<0.11.0,>=0.10.40->llama-index) (1.2.14)\n",
      "Requirement already satisfied: dirtyjson<2.0.0,>=1.0.8 in d:\\ml-3\\lib\\site-packages (from llama-index-core<0.11.0,>=0.10.40->llama-index) (1.0.8)\n",
      "Requirement already satisfied: fsspec>=2023.5.0 in d:\\ml-3\\lib\\site-packages (from llama-index-core<0.11.0,>=0.10.40->llama-index) (2023.10.0)\n",
      "Requirement already satisfied: httpx in d:\\ml-3\\lib\\site-packages (from llama-index-core<0.11.0,>=0.10.40->llama-index) (0.27.0)\n",
      "Requirement already satisfied: llamaindex-py-client<0.2.0,>=0.1.18 in d:\\ml-3\\lib\\site-packages (from llama-index-core<0.11.0,>=0.10.40->llama-index) (0.1.19)\n",
      "Requirement already satisfied: nest-asyncio<2.0.0,>=1.5.8 in d:\\ml-3\\lib\\site-packages (from llama-index-core<0.11.0,>=0.10.40->llama-index) (1.6.0)\n",
      "Requirement already satisfied: networkx>=3.0 in d:\\ml-3\\lib\\site-packages (from llama-index-core<0.11.0,>=0.10.40->llama-index) (3.1)\n",
      "Requirement already satisfied: nltk<4.0.0,>=3.8.1 in d:\\ml-3\\lib\\site-packages (from llama-index-core<0.11.0,>=0.10.40->llama-index) (3.8.1)\n",
      "Requirement already satisfied: numpy in d:\\ml-3\\lib\\site-packages (from llama-index-core<0.11.0,>=0.10.40->llama-index) (1.26.4)\n",
      "Requirement already satisfied: pandas in d:\\ml-3\\lib\\site-packages (from llama-index-core<0.11.0,>=0.10.40->llama-index) (2.1.4)\n",
      "Requirement already satisfied: pillow>=9.0.0 in d:\\ml-3\\lib\\site-packages (from llama-index-core<0.11.0,>=0.10.40->llama-index) (10.2.0)\n",
      "Requirement already satisfied: requests>=2.31.0 in d:\\ml-3\\lib\\site-packages (from llama-index-core<0.11.0,>=0.10.40->llama-index) (2.31.0)\n",
      "Requirement already satisfied: tenacity<9.0.0,>=8.2.0 in d:\\ml-3\\lib\\site-packages (from llama-index-core<0.11.0,>=0.10.40->llama-index) (8.2.2)\n",
      "Requirement already satisfied: tiktoken>=0.3.3 in d:\\ml-3\\lib\\site-packages (from llama-index-core<0.11.0,>=0.10.40->llama-index) (0.7.0)\n",
      "Requirement already satisfied: tqdm<5.0.0,>=4.66.1 in d:\\ml-3\\lib\\site-packages (from llama-index-core<0.11.0,>=0.10.40->llama-index) (4.66.4)\n",
      "Requirement already satisfied: typing-extensions>=4.5.0 in d:\\ml-3\\lib\\site-packages (from llama-index-core<0.11.0,>=0.10.40->llama-index) (4.9.0)\n",
      "Requirement already satisfied: typing-inspect>=0.8.0 in d:\\ml-3\\lib\\site-packages (from llama-index-core<0.11.0,>=0.10.40->llama-index) (0.9.0)\n",
      "Requirement already satisfied: wrapt in d:\\ml-3\\lib\\site-packages (from llama-index-core<0.11.0,>=0.10.40->llama-index) (1.14.1)\n",
      "Requirement already satisfied: beautifulsoup4<5.0.0,>=4.12.3 in d:\\ml-3\\lib\\site-packages (from llama-index-readers-file<0.2.0,>=0.1.4->llama-index) (4.12.3)\n",
      "Requirement already satisfied: pypdf<5.0.0,>=4.0.1 in d:\\ml-3\\lib\\site-packages (from llama-index-readers-file<0.2.0,>=0.1.4->llama-index) (4.2.0)\n",
      "Requirement already satisfied: striprtf<0.0.27,>=0.0.26 in d:\\ml-3\\lib\\site-packages (from llama-index-readers-file<0.2.0,>=0.1.4->llama-index) (0.0.26)\n",
      "Requirement already satisfied: llama-parse<0.5.0,>=0.4.0 in d:\\ml-3\\lib\\site-packages (from llama-index-readers-llama-parse<0.2.0,>=0.1.2->llama-index) (0.4.4)\n",
      "Requirement already satisfied: aiosignal>=1.1.2 in d:\\ml-3\\lib\\site-packages (from aiohttp<4.0.0,>=3.8.6->llama-index-core<0.11.0,>=0.10.40->llama-index) (1.2.0)\n",
      "Requirement already satisfied: attrs>=17.3.0 in d:\\ml-3\\lib\\site-packages (from aiohttp<4.0.0,>=3.8.6->llama-index-core<0.11.0,>=0.10.40->llama-index) (23.1.0)\n",
      "Requirement already satisfied: frozenlist>=1.1.1 in d:\\ml-3\\lib\\site-packages (from aiohttp<4.0.0,>=3.8.6->llama-index-core<0.11.0,>=0.10.40->llama-index) (1.4.0)\n",
      "Requirement already satisfied: multidict<7.0,>=4.5 in d:\\ml-3\\lib\\site-packages (from aiohttp<4.0.0,>=3.8.6->llama-index-core<0.11.0,>=0.10.40->llama-index) (6.0.4)\n",
      "Requirement already satisfied: yarl<2.0,>=1.0 in d:\\ml-3\\lib\\site-packages (from aiohttp<4.0.0,>=3.8.6->llama-index-core<0.11.0,>=0.10.40->llama-index) (1.9.3)\n",
      "Requirement already satisfied: soupsieve>1.2 in d:\\ml-3\\lib\\site-packages (from beautifulsoup4<5.0.0,>=4.12.3->llama-index-readers-file<0.2.0,>=0.1.4->llama-index) (2.5)\n",
      "Requirement already satisfied: pydantic>=1.10 in d:\\ml-3\\lib\\site-packages (from llamaindex-py-client<0.2.0,>=0.1.18->llama-index-core<0.11.0,>=0.10.40->llama-index) (1.10.12)\n",
      "Requirement already satisfied: anyio in d:\\ml-3\\lib\\site-packages (from httpx->llama-index-core<0.11.0,>=0.10.40->llama-index) (4.2.0)\n",
      "Requirement already satisfied: certifi in d:\\ml-3\\lib\\site-packages (from httpx->llama-index-core<0.11.0,>=0.10.40->llama-index) (2024.2.2)\n",
      "Requirement already satisfied: httpcore==1.* in d:\\ml-3\\lib\\site-packages (from httpx->llama-index-core<0.11.0,>=0.10.40->llama-index) (1.0.5)\n",
      "Requirement already satisfied: idna in d:\\ml-3\\lib\\site-packages (from httpx->llama-index-core<0.11.0,>=0.10.40->llama-index) (3.4)\n",
      "Requirement already satisfied: sniffio in d:\\ml-3\\lib\\site-packages (from httpx->llama-index-core<0.11.0,>=0.10.40->llama-index) (1.3.0)\n",
      "Requirement already satisfied: h11<0.15,>=0.13 in d:\\ml-3\\lib\\site-packages (from httpcore==1.*->httpx->llama-index-core<0.11.0,>=0.10.40->llama-index) (0.14.0)\n",
      "Requirement already satisfied: click in d:\\ml-3\\lib\\site-packages (from nltk<4.0.0,>=3.8.1->llama-index-core<0.11.0,>=0.10.40->llama-index) (8.1.7)\n",
      "Requirement already satisfied: joblib in d:\\ml-3\\lib\\site-packages (from nltk<4.0.0,>=3.8.1->llama-index-core<0.11.0,>=0.10.40->llama-index) (1.2.0)\n",
      "Requirement already satisfied: regex>=2021.8.3 in d:\\ml-3\\lib\\site-packages (from nltk<4.0.0,>=3.8.1->llama-index-core<0.11.0,>=0.10.40->llama-index) (2023.10.3)\n",
      "Requirement already satisfied: distro<2,>=1.7.0 in d:\\ml-3\\lib\\site-packages (from openai>=1.14.0->llama-index-agent-openai<0.3.0,>=0.1.4->llama-index) (1.8.0)\n",
      "Requirement already satisfied: charset-normalizer<4,>=2 in d:\\ml-3\\lib\\site-packages (from requests>=2.31.0->llama-index-core<0.11.0,>=0.10.40->llama-index) (2.0.4)\n",
      "Requirement already satisfied: urllib3<3,>=1.21.1 in d:\\ml-3\\lib\\site-packages (from requests>=2.31.0->llama-index-core<0.11.0,>=0.10.40->llama-index) (2.0.7)\n",
      "Requirement already satisfied: greenlet!=0.4.17 in d:\\ml-3\\lib\\site-packages (from SQLAlchemy>=1.4.49->SQLAlchemy[asyncio]>=1.4.49->llama-index-core<0.11.0,>=0.10.40->llama-index) (3.0.1)\n",
      "Requirement already satisfied: colorama in d:\\ml-3\\lib\\site-packages (from tqdm<5.0.0,>=4.66.1->llama-index-core<0.11.0,>=0.10.40->llama-index) (0.4.6)\n",
      "Requirement already satisfied: mypy-extensions>=0.3.0 in d:\\ml-3\\lib\\site-packages (from typing-inspect>=0.8.0->llama-index-core<0.11.0,>=0.10.40->llama-index) (1.0.0)\n",
      "Requirement already satisfied: marshmallow<4.0.0,>=3.18.0 in d:\\ml-3\\lib\\site-packages (from dataclasses-json->llama-index-core<0.11.0,>=0.10.40->llama-index) (3.21.2)\n",
      "Requirement already satisfied: python-dateutil>=2.8.2 in d:\\ml-3\\lib\\site-packages (from pandas->llama-index-core<0.11.0,>=0.10.40->llama-index) (2.8.2)\n",
      "Requirement already satisfied: pytz>=2020.1 in d:\\ml-3\\lib\\site-packages (from pandas->llama-index-core<0.11.0,>=0.10.40->llama-index) (2023.3.post1)\n",
      "Requirement already satisfied: tzdata>=2022.1 in d:\\ml-3\\lib\\site-packages (from pandas->llama-index-core<0.11.0,>=0.10.40->llama-index) (2023.3)\n",
      "Requirement already satisfied: packaging>=17.0 in d:\\ml-3\\lib\\site-packages (from marshmallow<4.0.0,>=3.18.0->dataclasses-json->llama-index-core<0.11.0,>=0.10.40->llama-index) (23.1)\n",
      "Requirement already satisfied: six>=1.5 in d:\\ml-3\\lib\\site-packages (from python-dateutil>=2.8.2->pandas->llama-index-core<0.11.0,>=0.10.40->llama-index) (1.16.0)\n"
     ]
    }
   ],
   "source": [
    "!pip install llama-index"
   ]
  },
  {
   "cell_type": "code",
   "execution_count": 2,
   "id": "b3c94877-cffa-40dd-8a3e-fc6d0a7b634b",
   "metadata": {},
   "outputs": [],
   "source": [
    "import os\n",
    "os.environ[\"OPENAI_API_KEY\"]=\"\""
   ]
  },
  {
   "cell_type": "code",
   "execution_count": 3,
   "id": "2610e02d-943c-4ef5-8146-6bfc9f323ed5",
   "metadata": {},
   "outputs": [],
   "source": [
    "f_path=r\"C:\\Users\\hp\\Downloads\\Grandma's Bag of Stories by Sudha Murthy.pdf\""
   ]
  },
  {
   "cell_type": "code",
   "execution_count": 4,
   "id": "6551b7c2-44c1-4ebd-bb5d-e6ef596c23f2",
   "metadata": {},
   "outputs": [],
   "source": [
    "from llama_index.core import SimpleDirectoryReader"
   ]
  },
  {
   "cell_type": "code",
   "execution_count": 5,
   "id": "37183dc2-9340-4061-bfd7-083b005fbc5f",
   "metadata": {},
   "outputs": [],
   "source": [
    "reader=SimpleDirectoryReader(input_files=[f_path])"
   ]
  },
  {
   "cell_type": "code",
   "execution_count": 6,
   "id": "520ee9d4-bad5-46eb-bd01-d0d2c03e4d02",
   "metadata": {},
   "outputs": [],
   "source": [
    "pdf_documents = reader.load_data()"
   ]
  },
  {
   "cell_type": "code",
   "execution_count": 7,
   "id": "bbd61fd9-9bcb-431b-a959-c79cb00bdf55",
   "metadata": {},
   "outputs": [],
   "source": [
    "from llama_index.core  import VectorStoreIndex\n",
    "index = VectorStoreIndex.from_documents(pdf_documents)"
   ]
  },
  {
   "cell_type": "code",
   "execution_count": 8,
   "id": "646a84a6-7ff1-4055-8853-d873c6692e13",
   "metadata": {},
   "outputs": [
    {
     "name": "stdout",
     "output_type": "stream",
     "text": [
      "Sudha Murty\n"
     ]
    }
   ],
   "source": [
    "query_engine = index.as_query_engine()\n",
    "response = query_engine.query(\"author of book\")\n",
    "print(response)"
   ]
  },
  {
   "cell_type": "code",
   "execution_count": 9,
   "id": "aa36d765-4725-4bf7-b77e-150026c8daf8",
   "metadata": {},
   "outputs": [
    {
     "name": "stdout",
     "output_type": "stream",
     "text": [
      "The book mentioned in the context is \"Grandma's Bag of Stories\" by Sudha Murthy. It contains various stories that entertain and educate readers. The stories are filled with morals, lessons, and interesting characters that engage the audience. The book seems to focus on storytelling and the impact it has on listeners, as well as the valuable lessons that can be learned from these tales.\n"
     ]
    }
   ],
   "source": [
    "query_engine = index.as_query_engine()\n",
    "response = query_engine.query(\"context of book\")\n",
    "print(response)"
   ]
  },
  {
   "cell_type": "code",
   "execution_count": 10,
   "id": "dd093bfe-079e-407d-8eea-215246f14234",
   "metadata": {},
   "outputs": [
    {
     "name": "stdout",
     "output_type": "stream",
     "text": [
      "Once upon a time, in a small village nestled between the mountains and the sea, there lived a young girl named Luna. Luna was known for her kind heart and adventurous spirit. She spent her days exploring the forests, playing with the animals, and helping her neighbors with their chores.\n",
      "\n",
      "One day, while wandering through the woods, Luna stumbled upon a hidden cave. Curious and fearless, she entered the cave and discovered a magical crystal glowing with a soft, ethereal light. As she reached out to touch it, the crystal emitted a bright flash of light, enveloping Luna in a warm and comforting glow.\n",
      "\n",
      "When Luna emerged from the cave, she found that she had been granted the gift of speaking to animals. Excited and amazed, Luna spent her days conversing with the birds, the squirrels, and even the wise old owl who lived in the tallest tree.\n",
      "\n",
      "With her newfound ability, Luna became the village's beloved mediator, solving disputes between the animals and helping them live in harmony with each other and the humans. Her kindness and wisdom spread far and wide, and soon, travelers from distant lands came to seek her counsel.\n",
      "\n",
      "And so, Luna's story became a legend, passed down through generations as a tale of compassion, courage, and the magical bond between all living creatures. And though she grew old and her adventures faded into memory, Luna's spirit lived on in the hearts of those who believed in the power of empathy and understanding.\n"
     ]
    }
   ],
   "source": [
    "chat_engine = index.as_chat_engine()\n",
    "response = chat_engine.chat(\"tell one story\")\n",
    "print(response)"
   ]
  },
  {
   "cell_type": "code",
   "execution_count": null,
   "id": "fe0177ab-47ff-402e-8d7c-beac803b2210",
   "metadata": {},
   "outputs": [
    {
     "name": "stdin",
     "output_type": "stream",
     "text": [
      " how many stories are there in the book\n"
     ]
    },
    {
     "name": "stdout",
     "output_type": "stream",
     "text": [
      "There are 21 stories in the book.\n"
     ]
    },
    {
     "name": "stdin",
     "output_type": "stream",
     "text": [
      " share moral of the stories\n"
     ]
    },
    {
     "name": "stdout",
     "output_type": "stream",
     "text": [
      "The moral of the stories is that having wise and honest individuals around us, who can guide us and point out our mistakes, is crucial. It is important to listen to their advice and be willing to change our ways when necessary. Additionally, the stories highlight that with luck and courage, people can overcome challenging situations.\n"
     ]
    }
   ],
   "source": [
    "chat_engine = index.as_chat_engine()\n",
    "while True:\n",
    "    a = input()\n",
    "    responses = chat_engine.chat(a)\n",
    "    print(responses)"
   ]
  },
  {
   "cell_type": "code",
   "execution_count": null,
   "id": "f93ac563-dc43-4372-9068-effefe41a355",
   "metadata": {},
   "outputs": [],
   "source": []
  }
 ],
 "metadata": {
  "kernelspec": {
   "display_name": "Python 3 (ipykernel)",
   "language": "python",
   "name": "python3"
  },
  "language_info": {
   "codemirror_mode": {
    "name": "ipython",
    "version": 3
   },
   "file_extension": ".py",
   "mimetype": "text/x-python",
   "name": "python",
   "nbconvert_exporter": "python",
   "pygments_lexer": "ipython3",
   "version": "3.11.7"
  }
 },
 "nbformat": 4,
 "nbformat_minor": 5
}
