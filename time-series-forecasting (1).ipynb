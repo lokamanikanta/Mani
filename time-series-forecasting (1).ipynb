{
 "cells": [
  {
   "cell_type": "code",
   "execution_count": null,
   "metadata": {
    "_cell_guid": "b1076dfc-b9ad-4769-8c92-a6c4dae69d19",
    "_uuid": "8f2839f25d086af736a60e9eeb907d3b93b6e0e5",
    "execution": {
     "iopub.execute_input": "2024-04-18T05:08:15.284105Z",
     "iopub.status.busy": "2024-04-18T05:08:15.283680Z",
     "iopub.status.idle": "2024-04-18T05:08:15.288258Z",
     "shell.execute_reply": "2024-04-18T05:08:15.287369Z",
     "shell.execute_reply.started": "2024-04-18T05:08:15.284075Z"
    }
   },
   "outputs": [],
   "source": [
    "import numpy as np\n",
    "import pandas as pd"
   ]
  },
  {
   "cell_type": "code",
   "execution_count": null,
   "metadata": {
    "execution": {
     "iopub.execute_input": "2024-04-18T05:08:15.290281Z",
     "iopub.status.busy": "2024-04-18T05:08:15.289969Z",
     "iopub.status.idle": "2024-04-18T05:08:15.376826Z",
     "shell.execute_reply": "2024-04-18T05:08:15.375807Z",
     "shell.execute_reply.started": "2024-04-18T05:08:15.290252Z"
    }
   },
   "outputs": [],
   "source": [
    "df = pd.read_csv('')"
   ]
  },
  {
   "cell_type": "code",
   "execution_count": null,
   "metadata": {
    "execution": {
     "iopub.execute_input": "2024-04-18T05:08:15.379532Z",
     "iopub.status.busy": "2024-04-18T05:08:15.378847Z",
     "iopub.status.idle": "2024-04-18T05:08:15.400872Z",
     "shell.execute_reply": "2024-04-18T05:08:15.399885Z",
     "shell.execute_reply.started": "2024-04-18T05:08:15.379490Z"
    }
   },
   "outputs": [],
   "source": [
    "df"
   ]
  },
  {
   "cell_type": "code",
   "execution_count": null,
   "metadata": {
    "execution": {
     "iopub.execute_input": "2024-04-18T05:08:15.402910Z",
     "iopub.status.busy": "2024-04-18T05:08:15.402536Z",
     "iopub.status.idle": "2024-04-18T05:08:15.457708Z",
     "shell.execute_reply": "2024-04-18T05:08:15.456325Z",
     "shell.execute_reply.started": "2024-04-18T05:08:15.402877Z"
    }
   },
   "outputs": [],
   "source": [
    "df.describe()"
   ]
  },
  {
   "cell_type": "code",
   "execution_count": null,
   "metadata": {
    "execution": {
     "iopub.execute_input": "2024-04-18T05:08:15.460936Z",
     "iopub.status.busy": "2024-04-18T05:08:15.460536Z",
     "iopub.status.idle": "2024-04-18T05:08:15.476223Z",
     "shell.execute_reply": "2024-04-18T05:08:15.475172Z",
     "shell.execute_reply.started": "2024-04-18T05:08:15.460911Z"
    }
   },
   "outputs": [],
   "source": [
    "df.head()"
   ]
  },
  {
   "cell_type": "markdown",
   "metadata": {},
   "source": [
    "# Air Pollution Forecasting\n",
    "* In this tutorial, we are going to use the Air Quality dataset.\n",
    "* \n",
    "* This is a dataset that reports on the weather and the level of pollution each hour for five years at the US embassy in Beijing, China.\n",
    "* \n",
    "* The data includes the date-time, the pollution called PM2.5 concentration, and the weather information including dew point, temperature, pressure, wind direction, wind speed and the cumulative number of hours of snow and rain. The complete feature list in the raw data is as follows:\n",
    "* \n",
    "* No: row number\n",
    "* year: year of data in this row\n",
    "* month: month of data in this row\n",
    "* day: day of data in this row\n",
    "* hour: hour of data in this row\n",
    "* pm2.5: PM2.5 concentration\n",
    "* DEWP: Dew Point\n",
    "* TEMP: Temperature\n",
    "* PRES: Pressure\n",
    "* cbwd: Combined wind direction\n",
    "* Iws: Cumulated wind speed\n",
    "* Is: Cumulated hours of snow\n",
    "* Ir: Cumulated hours of rain\n",
    "* We can use this data and frame a forecasting problem where, given the weather conditions and pollution for prior hours, we forecast the pollution at the next hour."
   ]
  },
  {
   "cell_type": "code",
   "execution_count": null,
   "metadata": {
    "execution": {
     "iopub.execute_input": "2024-04-18T05:08:15.477840Z",
     "iopub.status.busy": "2024-04-18T05:08:15.477502Z",
     "iopub.status.idle": "2024-04-18T05:08:15.492139Z",
     "shell.execute_reply": "2024-04-18T05:08:15.491221Z",
     "shell.execute_reply.started": "2024-04-18T05:08:15.477786Z"
    }
   },
   "outputs": [],
   "source": [
    "df.isnull().sum()"
   ]
  },
  {
   "cell_type": "code",
   "execution_count": null,
   "metadata": {
    "execution": {
     "iopub.execute_input": "2024-04-18T05:08:15.493445Z",
     "iopub.status.busy": "2024-04-18T05:08:15.493165Z",
     "iopub.status.idle": "2024-04-18T05:08:15.501420Z",
     "shell.execute_reply": "2024-04-18T05:08:15.500655Z",
     "shell.execute_reply.started": "2024-04-18T05:08:15.493421Z"
    }
   },
   "outputs": [],
   "source": [
    "df=df.drop(['No'],axis=1)"
   ]
  },
  {
   "cell_type": "code",
   "execution_count": null,
   "metadata": {
    "execution": {
     "iopub.execute_input": "2024-04-18T05:08:15.502691Z",
     "iopub.status.busy": "2024-04-18T05:08:15.502420Z",
     "iopub.status.idle": "2024-04-18T05:08:15.521629Z",
     "shell.execute_reply": "2024-04-18T05:08:15.520746Z",
     "shell.execute_reply.started": "2024-04-18T05:08:15.502668Z"
    }
   },
   "outputs": [],
   "source": [
    "df.head(10)"
   ]
  },
  {
   "cell_type": "code",
   "execution_count": null,
   "metadata": {
    "execution": {
     "iopub.execute_input": "2024-04-18T05:08:15.523045Z",
     "iopub.status.busy": "2024-04-18T05:08:15.522725Z",
     "iopub.status.idle": "2024-04-18T05:08:15.530954Z",
     "shell.execute_reply": "2024-04-18T05:08:15.529968Z",
     "shell.execute_reply.started": "2024-04-18T05:08:15.523022Z"
    }
   },
   "outputs": [],
   "source": [
    "df['pm2.5'] = df['pm2.5'].fillna(0)"
   ]
  },
  {
   "cell_type": "code",
   "execution_count": null,
   "metadata": {
    "execution": {
     "iopub.execute_input": "2024-04-18T05:08:15.532948Z",
     "iopub.status.busy": "2024-04-18T05:08:15.532206Z",
     "iopub.status.idle": "2024-04-18T05:08:15.556866Z",
     "shell.execute_reply": "2024-04-18T05:08:15.555959Z",
     "shell.execute_reply.started": "2024-04-18T05:08:15.532924Z"
    }
   },
   "outputs": [],
   "source": [
    "df"
   ]
  },
  {
   "cell_type": "code",
   "execution_count": null,
   "metadata": {
    "execution": {
     "iopub.execute_input": "2024-04-18T05:08:15.561893Z",
     "iopub.status.busy": "2024-04-18T05:08:15.561295Z",
     "iopub.status.idle": "2024-04-18T05:08:15.580193Z",
     "shell.execute_reply": "2024-04-18T05:08:15.579490Z",
     "shell.execute_reply.started": "2024-04-18T05:08:15.561870Z"
    }
   },
   "outputs": [],
   "source": [
    "from datetime import datetime\n",
    "df['datetime'] = pd.to_datetime(df[['year', 'month', 'day', 'hour']])"
   ]
  },
  {
   "cell_type": "code",
   "execution_count": null,
   "metadata": {
    "execution": {
     "iopub.execute_input": "2024-04-18T05:08:15.581340Z",
     "iopub.status.busy": "2024-04-18T05:08:15.581082Z",
     "iopub.status.idle": "2024-04-18T05:08:15.587160Z",
     "shell.execute_reply": "2024-04-18T05:08:15.586257Z",
     "shell.execute_reply.started": "2024-04-18T05:08:15.581318Z"
    }
   },
   "outputs": [],
   "source": [
    "df= df.drop(['year','month','day','hour'],axis=1)\n"
   ]
  },
  {
   "cell_type": "code",
   "execution_count": null,
   "metadata": {
    "execution": {
     "iopub.execute_input": "2024-04-18T05:08:15.590004Z",
     "iopub.status.busy": "2024-04-18T05:08:15.588280Z",
     "iopub.status.idle": "2024-04-18T05:08:15.599062Z",
     "shell.execute_reply": "2024-04-18T05:08:15.598004Z",
     "shell.execute_reply.started": "2024-04-18T05:08:15.589980Z"
    }
   },
   "outputs": [],
   "source": [
    "df\n",
    "df['datetime'].nunique()"
   ]
  },
  {
   "cell_type": "code",
   "execution_count": null,
   "metadata": {
    "execution": {
     "iopub.execute_input": "2024-04-18T05:08:15.600919Z",
     "iopub.status.busy": "2024-04-18T05:08:15.600428Z",
     "iopub.status.idle": "2024-04-18T05:08:15.604951Z",
     "shell.execute_reply": "2024-04-18T05:08:15.604062Z",
     "shell.execute_reply.started": "2024-04-18T05:08:15.600894Z"
    }
   },
   "outputs": [],
   "source": [
    "# columns = df.columns.tolist()\n",
    "\n",
    "# # Move the last column to the first position\n",
    "# columns = [columns[-1]] + columns[:-1]\n",
    "\n",
    "# # Reorder the DataFrame columns\n",
    "# df = df[columns]"
   ]
  },
  {
   "cell_type": "code",
   "execution_count": null,
   "metadata": {
    "execution": {
     "iopub.execute_input": "2024-04-18T05:08:15.606473Z",
     "iopub.status.busy": "2024-04-18T05:08:15.606213Z",
     "iopub.status.idle": "2024-04-18T05:08:15.628922Z",
     "shell.execute_reply": "2024-04-18T05:08:15.627974Z",
     "shell.execute_reply.started": "2024-04-18T05:08:15.606451Z"
    }
   },
   "outputs": [],
   "source": [
    "df"
   ]
  },
  {
   "cell_type": "code",
   "execution_count": null,
   "metadata": {
    "execution": {
     "iopub.execute_input": "2024-04-18T05:08:15.630180Z",
     "iopub.status.busy": "2024-04-18T05:08:15.629900Z",
     "iopub.status.idle": "2024-04-18T05:08:15.637686Z",
     "shell.execute_reply": "2024-04-18T05:08:15.636895Z",
     "shell.execute_reply.started": "2024-04-18T05:08:15.630148Z"
    }
   },
   "outputs": [],
   "source": [
    "# Set 'Datetime' column as index\n",
    "df.set_index('datetime', inplace=True)\n",
    "# manually specify column names\n",
    "df.columns = ['pollution', 'dew', 'temp', 'press', 'wnd_dir', 'wnd_spd', 'snow', 'rain']\n"
   ]
  },
  {
   "cell_type": "code",
   "execution_count": null,
   "metadata": {
    "execution": {
     "iopub.execute_input": "2024-04-18T05:08:15.639190Z",
     "iopub.status.busy": "2024-04-18T05:08:15.638870Z",
     "iopub.status.idle": "2024-04-18T05:08:15.660037Z",
     "shell.execute_reply": "2024-04-18T05:08:15.659122Z",
     "shell.execute_reply.started": "2024-04-18T05:08:15.639162Z"
    }
   },
   "outputs": [],
   "source": [
    "df"
   ]
  },
  {
   "cell_type": "code",
   "execution_count": null,
   "metadata": {
    "execution": {
     "iopub.execute_input": "2024-04-18T05:08:15.661422Z",
     "iopub.status.busy": "2024-04-18T05:08:15.661159Z",
     "iopub.status.idle": "2024-04-18T05:08:15.678389Z",
     "shell.execute_reply": "2024-04-18T05:08:15.677538Z",
     "shell.execute_reply.started": "2024-04-18T05:08:15.661399Z"
    }
   },
   "outputs": [],
   "source": [
    "df.isnull().sum()"
   ]
  },
  {
   "cell_type": "code",
   "execution_count": null,
   "metadata": {},
   "outputs": [],
   "source": []
  },
  {
   "cell_type": "code",
   "execution_count": null,
   "metadata": {
    "execution": {
     "iopub.execute_input": "2024-04-18T05:08:15.679691Z",
     "iopub.status.busy": "2024-04-18T05:08:15.679446Z",
     "iopub.status.idle": "2024-04-18T05:08:15.696888Z",
     "shell.execute_reply": "2024-04-18T05:08:15.696060Z",
     "shell.execute_reply.started": "2024-04-18T05:08:15.679670Z"
    }
   },
   "outputs": [],
   "source": [
    "df"
   ]
  },
  {
   "cell_type": "code",
   "execution_count": null,
   "metadata": {},
   "outputs": [],
   "source": []
  },
  {
   "cell_type": "code",
   "execution_count": null,
   "metadata": {
    "execution": {
     "iopub.execute_input": "2024-04-18T05:08:15.699013Z",
     "iopub.status.busy": "2024-04-18T05:08:15.697996Z",
     "iopub.status.idle": "2024-04-18T05:08:15.709340Z",
     "shell.execute_reply": "2024-04-18T05:08:15.708385Z",
     "shell.execute_reply.started": "2024-04-18T05:08:15.698979Z"
    }
   },
   "outputs": [],
   "source": [
    "# prepare data for lstm\n",
    "from pandas import read_csv\n",
    "from pandas import DataFrame\n",
    "from pandas import concat\n",
    "from sklearn.preprocessing import LabelEncoder\n",
    "from sklearn.preprocessing import MinMaxScaler\n",
    "\n",
    "# convert series to supervised learning\n",
    "def series_to_supervised(data, n_in=1, n_out=1, dropnan=True):\n",
    "\tn_vars = 1 if type(data) is list else data.shape[1]\n",
    "\tdf = DataFrame(data)\n",
    "\tcols, names = list(), list()\n",
    "\t# input sequence (t-n, ... t-1)\n",
    "\tfor i in range(n_in, 0, -1):\n",
    "\t\tcols.append(df.shift(i))\n",
    "\t\tnames += [('var%d(t-%d)' % (j+1, i)) for j in range(n_vars)]\n",
    "\t# forecast sequence (t, t+1, ... t+n)\n",
    "\tfor i in range(0, n_out):\n",
    "\t\tcols.append(df.shift(-i))\n",
    "\t\tif i == 0:\n",
    "\t\t\tnames += [('var%d(t)' % (j+1)) for j in range(n_vars)]\n",
    "\t\telse:\n",
    "\t\t\tnames += [('var%d(t+%d)' % (j+1, i)) for j in range(n_vars)]\n",
    "\t# put it all together\n",
    "\tagg = concat(cols, axis=1)\n",
    "\tagg.columns = names\n",
    "\t# drop rows with NaN values\n",
    "\tif dropnan:\n",
    "\t\tagg.dropna(inplace=True)\n",
    "\treturn agg\n",
    "\n"
   ]
  },
  {
   "cell_type": "code",
   "execution_count": null,
   "metadata": {
    "execution": {
     "iopub.execute_input": "2024-04-18T05:08:15.711042Z",
     "iopub.status.busy": "2024-04-18T05:08:15.710721Z",
     "iopub.status.idle": "2024-04-18T05:08:15.723960Z",
     "shell.execute_reply": "2024-04-18T05:08:15.723042Z",
     "shell.execute_reply.started": "2024-04-18T05:08:15.711009Z"
    }
   },
   "outputs": [],
   "source": [
    "from  sklearn.preprocessing import LabelEncoder\n",
    "cat = df.select_dtypes(include='object')\n",
    "le= LabelEncoder()"
   ]
  },
  {
   "cell_type": "code",
   "execution_count": null,
   "metadata": {
    "execution": {
     "iopub.execute_input": "2024-04-18T05:08:15.725510Z",
     "iopub.status.busy": "2024-04-18T05:08:15.725170Z",
     "iopub.status.idle": "2024-04-18T05:08:15.745934Z",
     "shell.execute_reply": "2024-04-18T05:08:15.745020Z",
     "shell.execute_reply.started": "2024-04-18T05:08:15.725479Z"
    }
   },
   "outputs": [],
   "source": [
    "cat = le.fit_transform(cat)"
   ]
  },
  {
   "cell_type": "code",
   "execution_count": null,
   "metadata": {
    "execution": {
     "iopub.execute_input": "2024-04-18T05:08:15.747083Z",
     "iopub.status.busy": "2024-04-18T05:08:15.746833Z",
     "iopub.status.idle": "2024-04-18T05:08:15.755229Z",
     "shell.execute_reply": "2024-04-18T05:08:15.754301Z",
     "shell.execute_reply.started": "2024-04-18T05:08:15.747061Z"
    }
   },
   "outputs": [],
   "source": [
    "df['wnd_dir']=cat"
   ]
  },
  {
   "cell_type": "code",
   "execution_count": null,
   "metadata": {
    "execution": {
     "iopub.execute_input": "2024-04-18T05:08:15.757146Z",
     "iopub.status.busy": "2024-04-18T05:08:15.756658Z",
     "iopub.status.idle": "2024-04-18T05:08:15.788026Z",
     "shell.execute_reply": "2024-04-18T05:08:15.785656Z",
     "shell.execute_reply.started": "2024-04-18T05:08:15.757117Z"
    }
   },
   "outputs": [],
   "source": [
    "values = df.values\n",
    "values = values.astype('float32')\n",
    "# normalize features\n",
    "scaler = MinMaxScaler(feature_range=(0, 1))\n",
    "scaled = scaler.fit_transform(values)\n",
    "# frame as supervised learning\n",
    "reframed = series_to_supervised(scaled, 1, 1)\n",
    "# drop columns we don't want to predict\n",
    "#reframed.drop(reframed.columns[[9,10,11,12,13,14,15]], axis=1, inplace=True)\n",
    "print(reframed.head())\n"
   ]
  },
  {
   "cell_type": "code",
   "execution_count": null,
   "metadata": {
    "execution": {
     "iopub.execute_input": "2024-04-18T05:08:15.789892Z",
     "iopub.status.busy": "2024-04-18T05:08:15.789416Z",
     "iopub.status.idle": "2024-04-18T05:08:15.800052Z",
     "shell.execute_reply": "2024-04-18T05:08:15.798633Z",
     "shell.execute_reply.started": "2024-04-18T05:08:15.789857Z"
    }
   },
   "outputs": [],
   "source": [
    "reframed['var1(t)'].value_counts()"
   ]
  },
  {
   "cell_type": "code",
   "execution_count": null,
   "metadata": {
    "execution": {
     "iopub.execute_input": "2024-04-18T05:08:15.801690Z",
     "iopub.status.busy": "2024-04-18T05:08:15.801345Z",
     "iopub.status.idle": "2024-04-18T05:08:15.815659Z",
     "shell.execute_reply": "2024-04-18T05:08:15.814687Z",
     "shell.execute_reply.started": "2024-04-18T05:08:15.801658Z"
    }
   },
   "outputs": [],
   "source": [
    "values"
   ]
  },
  {
   "cell_type": "code",
   "execution_count": null,
   "metadata": {
    "execution": {
     "iopub.execute_input": "2024-04-18T05:08:15.817768Z",
     "iopub.status.busy": "2024-04-18T05:08:15.817429Z",
     "iopub.status.idle": "2024-04-18T05:08:15.828034Z",
     "shell.execute_reply": "2024-04-18T05:08:15.826912Z",
     "shell.execute_reply.started": "2024-04-18T05:08:15.817741Z"
    }
   },
   "outputs": [],
   "source": [
    "# values = reframed.values\n",
    "# total_rows = values.shape[0]\n",
    "# split_index = total_rows // 2 \n",
    "# train = values[:split_index,:]\n",
    "# test = values[split_index:, :]\n",
    "# # split into input and outputs\n",
    "# train_X, train_y = train[:, :-1], train[:, -1]\n",
    "# test_X, test_y = test[:, :-1], test[:, -1]\n",
    "# # reshape input to be 3D [samples, timesteps, features]\n",
    "# train_X = train_X.reshape((train_X.shape[0], 1, train_X.shape[1]))\n",
    "# test_X = test_X.reshape((test_X.shape[0], 1, test_X.shape[1]))\n",
    "# print(train_X.shape, train_y.shape, test_X.shape, test_y.shape)"
   ]
  },
  {
   "cell_type": "markdown",
   "metadata": {},
   "source": []
  },
  {
   "cell_type": "code",
   "execution_count": null,
   "metadata": {
    "execution": {
     "iopub.execute_input": "2024-04-18T05:08:15.830039Z",
     "iopub.status.busy": "2024-04-18T05:08:15.829356Z",
     "iopub.status.idle": "2024-04-18T05:08:15.840166Z",
     "shell.execute_reply": "2024-04-18T05:08:15.839402Z",
     "shell.execute_reply.started": "2024-04-18T05:08:15.830012Z"
    }
   },
   "outputs": [],
   "source": [
    "import matplotlib.pyplot  as plt"
   ]
  },
  {
   "cell_type": "code",
   "execution_count": null,
   "metadata": {},
   "outputs": [],
   "source": []
  },
  {
   "cell_type": "code",
   "execution_count": null,
   "metadata": {},
   "outputs": [],
   "source": []
  },
  {
   "cell_type": "code",
   "execution_count": null,
   "metadata": {},
   "outputs": [],
   "source": []
  },
  {
   "cell_type": "code",
   "execution_count": null,
   "metadata": {},
   "outputs": [],
   "source": []
  },
  {
   "cell_type": "code",
   "execution_count": null,
   "metadata": {
    "execution": {
     "iopub.execute_input": "2024-04-18T05:08:15.846067Z",
     "iopub.status.busy": "2024-04-18T05:08:15.845746Z",
     "iopub.status.idle": "2024-04-18T05:08:15.850307Z",
     "shell.execute_reply": "2024-04-18T05:08:15.849427Z",
     "shell.execute_reply.started": "2024-04-18T05:08:15.846045Z"
    }
   },
   "outputs": [],
   "source": [
    "# from math import sqrt\n",
    "# from numpy import concatenate\n",
    "# from matplotlib import pyplot\n",
    "# from pandas import read_csv\n",
    "# from pandas import DataFrame\n",
    "# from pandas import concat\n",
    "# ...\n",
    "# # make a prediction\n",
    "# yhat = model.predict(test_X)\n",
    "# test_X = test_X.reshape((test_X.shape[0], test_X.shape[1]))\n",
    "# # invert scaling for forecast\n",
    "# inv_yhat = concatenate((yhat, test_X[:, 1:]), axis=1)\n",
    "# inv_yhat = scaler.inverse_transform(inv_yhat)\n",
    "# inv_yhat = inv_yhat[:,0]\n",
    "# # invert scaling for actual\n",
    "# test_y = test_y.reshape((len(test_y), 1))\n",
    "# inv_y = concatenate((test_y, test_X[:, 1:]), axis=1)\n",
    "# inv_y = scaler.inverse_transform(inv_y)\n",
    "# inv_y = inv_y[:,0]\n",
    "# # calculate RMSE\n",
    "# rmse = sqrt(mean_squared_error(inv_y, inv_yhat))\n",
    "# print('Test RMSE: %.3f' % rmse)"
   ]
  },
  {
   "cell_type": "code",
   "execution_count": null,
   "metadata": {
    "execution": {
     "iopub.execute_input": "2024-04-18T05:08:15.851979Z",
     "iopub.status.busy": "2024-04-18T05:08:15.851644Z",
     "iopub.status.idle": "2024-04-18T05:08:44.267696Z",
     "shell.execute_reply": "2024-04-18T05:08:44.266678Z",
     "shell.execute_reply.started": "2024-04-18T05:08:15.851951Z"
    }
   },
   "outputs": [],
   "source": [
    "from math import sqrt\n",
    "from numpy import concatenate\n",
    "from matplotlib import pyplot\n",
    "from pandas import read_csv\n",
    "from pandas import DataFrame\n",
    "from pandas import concat\n",
    "from sklearn.preprocessing import MinMaxScaler\n",
    "from sklearn.preprocessing import LabelEncoder\n",
    "from sklearn.metrics import mean_squared_error\n",
    "from keras.models import Sequential\n",
    "from keras.layers import Dense\n",
    "from keras.layers import LSTM\n",
    " \n",
    "# convert series to supervised learning\n",
    "def series_to_supervised(data, n_in=1, n_out=1, dropnan=True):\n",
    "\tn_vars = 1 if type(data) is list else data.shape[1]\n",
    "\tdf = DataFrame(data)\n",
    "\tcols, names = list(), list()\n",
    "\t# input sequence (t-n, ... t-1)\n",
    "\tfor i in range(n_in, 0, -1):\n",
    "\t\tcols.append(df.shift(i))\n",
    "\t\tnames += [('var%d(t-%d)' % (j+1, i)) for j in range(n_vars)]\n",
    "\t# forecast sequence (t, t+1, ... t+n)\n",
    "\tfor i in range(0, n_out):\n",
    "\t\tcols.append(df.shift(-i))\n",
    "\t\tif i == 0:\n",
    "\t\t\tnames += [('var%d(t)' % (j+1)) for j in range(n_vars)]\n",
    "\t\telse:\n",
    "\t\t\tnames += [('var%d(t+%d)' % (j+1, i)) for j in range(n_vars)]\n",
    "\t# put it all together\n",
    "\tagg = concat(cols, axis=1)\n",
    "\tagg.columns = names\n",
    "\t# drop rows with NaN values\n",
    "\tif dropnan:\n",
    "\t\tagg.dropna(inplace=True)\n",
    "\treturn agg\n",
    " \n",
    "# load dataset\n",
    "\n",
    "values = df.values\n",
    "# integer encode direction\n",
    "encoder = LabelEncoder()\n",
    "values[:,4] = encoder.fit_transform(values[:,4])\n",
    "# ensure all data is float\n",
    "values = values.astype('float32')\n",
    "# normalize features\n",
    "scaler = MinMaxScaler(feature_range=(0, 1))\n",
    "scaled = scaler.fit_transform(values)\n",
    "# frame as supervised learning\n",
    "reframed = series_to_supervised(scaled, 1, 1)\n",
    "# drop columns we don't want to predict\n",
    "reframed.drop(reframed.columns[[9,10,11,12,13,14,15]], axis=1, inplace=True)\n",
    "print(reframed.head())\n",
    " \n",
    "# split into train and test sets\n",
    "values = reframed.values\n",
    "total_rows = values.shape[0]\n",
    "split_index = total_rows // 2 \n",
    "train = values[:split_index,:]\n",
    "test = values[split_index:, :]\n",
    "# split into input and outputs\n",
    "train_X, train_y = train[:, :-1], train[:, -1]\n",
    "test_X, test_y = test[:, :-1], test[:, -1]\n",
    "# reshape input to be 3D [samples, timesteps, features]\n",
    "train_X = train_X.reshape((train_X.shape[0], 1, train_X.shape[1]))\n",
    "test_X = test_X.reshape((test_X.shape[0], 1, test_X.shape[1]))\n",
    "print(train_X.shape, train_y.shape, test_X.shape, test_y.shape)\n",
    " \n",
    "# design network\n",
    "model = Sequential()\n",
    "model.add(LSTM(50, input_shape=(train_X.shape[1], train_X.shape[2])))\n",
    "model.add(Dense(1))\n",
    "model.compile(loss='mae', optimizer='adam')\n",
    "# fit network\n",
    "history = model.fit(train_X, train_y, epochs=20, batch_size=72, validation_data=(test_X, test_y), verbose=2, shuffle=False)\n",
    "# plot history\n",
    "pyplot.plot(history.history['loss'], label='train')\n",
    "pyplot.plot(history.history['val_loss'], label='test')\n",
    "pyplot.legend()\n",
    "pyplot.show()\n",
    " \n",
    "# make a prediction\n",
    "yhat = model.predict(test_X)\n",
    "test_X = test_X.reshape((test_X.shape[0], test_X.shape[2]))\n",
    "# invert scaling for forecast\n",
    "inv_yhat = concatenate((yhat, test_X[:, 1:]), axis=1)\n",
    "inv_yhat = scaler.inverse_transform(inv_yhat)\n",
    "inv_yhat = inv_yhat[:,0]\n",
    "# invert scaling for actual\n",
    "test_y = test_y.reshape((len(test_y), 1))\n",
    "inv_y = concatenate((test_y, test_X[:, 1:]), axis=1)\n",
    "inv_y = scaler.inverse_transform(inv_y)\n",
    "inv_y = inv_y[:,0]\n",
    "# calculate RMSE\n",
    "rmse = sqrt(mean_squared_error(inv_y, inv_yhat))\n",
    "print('Test RMSE: %.3f' % rmse)"
   ]
  },
  {
   "cell_type": "code",
   "execution_count": null,
   "metadata": {
    "execution": {
     "iopub.execute_input": "2024-04-18T05:08:44.269172Z",
     "iopub.status.busy": "2024-04-18T05:08:44.268866Z",
     "iopub.status.idle": "2024-04-18T05:08:44.274977Z",
     "shell.execute_reply": "2024-04-18T05:08:44.273997Z",
     "shell.execute_reply.started": "2024-04-18T05:08:44.269145Z"
    }
   },
   "outputs": [],
   "source": [
    "train_X.shape[1]"
   ]
  },
  {
   "cell_type": "code",
   "execution_count": null,
   "metadata": {
    "execution": {
     "iopub.execute_input": "2024-04-18T05:08:44.276384Z",
     "iopub.status.busy": "2024-04-18T05:08:44.276109Z",
     "iopub.status.idle": "2024-04-18T05:08:44.291185Z",
     "shell.execute_reply": "2024-04-18T05:08:44.290351Z",
     "shell.execute_reply.started": "2024-04-18T05:08:44.276360Z"
    }
   },
   "outputs": [],
   "source": [
    "from sklearn.metrics import mean_absolute_error, mean_squared_error, r2_score\n",
    "\n",
    "# Assuming y_true contains the actual target values and y_pred contains the predicted values\n",
    "mae = mean_absolute_error(inv_y, inv_yhat)\n",
    "mse = mean_squared_error(inv_y, inv_yhat)\n",
    "rmse = mean_squared_error(inv_y, inv_yhat, squared=False)\n",
    "\n",
    "print(\"Mean Absolute Error (MAE):\", mae)\n",
    "print(\"Mean Squared Error (MSE):\", mse)\n",
    "print(\"Root Mean Squared Error (RMSE):\", rmse)\n",
    "accurcay = r2_score(inv_y, inv_yhat)\n",
    "accurcay"
   ]
  },
  {
   "cell_type": "code",
   "execution_count": null,
   "metadata": {
    "execution": {
     "iopub.execute_input": "2024-04-18T05:08:44.293173Z",
     "iopub.status.busy": "2024-04-18T05:08:44.292599Z",
     "iopub.status.idle": "2024-04-18T05:08:45.410878Z",
     "shell.execute_reply": "2024-04-18T05:08:45.409957Z",
     "shell.execute_reply.started": "2024-04-18T05:08:44.293141Z"
    }
   },
   "outputs": [],
   "source": [
    "yhat1 = model.predict(train_X)\n",
    "train_X = train_X.reshape((train_X.shape[0], train_X.shape[2]))\n",
    "                          # invert scaling for forecast train\n",
    "from numpy import concatenate\n",
    "inv_yhat1 = concatenate((yhat1, train_X[:, 1:]), axis=1)\n",
    "inv_yhat1 = scaler.inverse_transform(inv_yhat1)\n",
    "inv_yhat1 = inv_yhat1[:,0]\n",
    "                          # invert scaling for actual train\n",
    "train_y = train_y.reshape((len(train_y), 1))\n",
    "inv_y1 = concatenate((train_y, train_X[:, 1:]), axis=1)\n",
    "inv_y1 = scaler.inverse_transform(inv_y1)\n",
    "inv_y1 = inv_y1[:,0]\n",
    "                          \n",
    "from sklearn.metrics import mean_absolute_error, mean_squared_error, r2_score\n",
    "\n",
    "# Assuming y_true contains the actual target values and y_pred contains the predicted values\n",
    "mae = mean_absolute_error(inv_y1, inv_yhat1)\n",
    "mse = mean_squared_error(inv_y1, inv_yhat1)\n",
    "rmse = mean_squared_error(inv_y1, inv_yhat1, squared=False)\n",
    "\n",
    "print(\"Mean Absolute Error (MAE):\", mae)\n",
    "print(\"Mean Squared Error (MSE):\", mse)\n",
    "print(\"Root Mean Squared Error (RMSE):\", rmse)\n",
    "accurcay1 = r2_score(inv_y1, inv_yhat1)\n",
    "accurcay1"
   ]
  },
  {
   "cell_type": "code",
   "execution_count": null,
   "metadata": {
    "execution": {
     "iopub.execute_input": "2024-04-18T05:08:45.412526Z",
     "iopub.status.busy": "2024-04-18T05:08:45.412230Z",
     "iopub.status.idle": "2024-04-18T05:08:59.652916Z",
     "shell.execute_reply": "2024-04-18T05:08:59.651974Z",
     "shell.execute_reply.started": "2024-04-18T05:08:45.412501Z"
    }
   },
   "outputs": [],
   "source": [
    "from math import sqrt\n",
    "from numpy import concatenate\n",
    "from matplotlib import pyplot\n",
    "from pandas import read_csv\n",
    "from pandas import DataFrame\n",
    "from pandas import concat\n",
    "from sklearn.preprocessing import MinMaxScaler\n",
    "from sklearn.preprocessing import LabelEncoder\n",
    "from sklearn.metrics import mean_squared_error\n",
    "from keras.models import Sequential\n",
    "from keras.layers import Dense\n",
    "from keras.layers import LSTM\n",
    " \n",
    "# convert series to supervised learning\n",
    "def series_to_supervised(data, n_in=1, n_out=1, dropnan=True):\n",
    "\tn_vars = 1 if type(data) is list else data.shape[1]\n",
    "\tdf = DataFrame(data)\n",
    "\tcols, names = list(), list()\n",
    "\t# input sequence (t-n, ... t-1)\n",
    "\tfor i in range(n_in, 0, -1):\n",
    "\t\tcols.append(df.shift(i))\n",
    "\t\tnames += [('var%d(t-%d)' % (j+1, i)) for j in range(n_vars)]\n",
    "\t# forecast sequence (t, t+1, ... t+n)\n",
    "\tfor i in range(0, n_out):\n",
    "\t\tcols.append(df.shift(-i))\n",
    "\t\tif i == 0:\n",
    "\t\t\tnames += [('var%d(t)' % (j+1)) for j in range(n_vars)]\n",
    "\t\telse:\n",
    "\t\t\tnames += [('var%d(t+%d)' % (j+1, i)) for j in range(n_vars)]\n",
    "\t# put it all together\n",
    "\tagg = concat(cols, axis=1)\n",
    "\tagg.columns = names\n",
    "\t# drop rows with NaN values\n",
    "\tif dropnan:\n",
    "\t\tagg.dropna(inplace=True)\n",
    "\treturn agg\n",
    " \n",
    "# load dataset\n",
    "\n",
    "values = df.values\n",
    "# integer encode direction\n",
    "encoder = LabelEncoder()\n",
    "values[:,4] = encoder.fit_transform(values[:,4])\n",
    "# ensure all data is float\n",
    "values = values.astype('float32')\n",
    "# normalize features\n",
    "scaler = MinMaxScaler(feature_range=(0, 1))\n",
    "scaled = scaler.fit_transform(values)\n",
    "# frame as supervised learning\n",
    "reframed = series_to_supervised(scaled, 2, 1)\n",
    "# drop columns we don't want to predict\n",
    "reframed.drop(reframed.columns[[17,18,19,20,21,22,23]], axis=1, inplace=True)\n",
    "print(reframed.head())\n",
    " \n",
    "# split into train and test sets\n",
    "values = reframed.values\n",
    "values = reframed.values\n",
    "total_rows = values.shape[0]\n",
    "split_index = total_rows // 2 \n",
    "train = values[:split_index,:]\n",
    "test = values[split_index:, :]\n",
    "# split into input and outputs\n",
    "train_X, train_y = train[:, :-1], train[:, -1]\n",
    "test_X, test_y = test[:, :-1], test[:, -1]\n",
    "# reshape input to be 3D [samples, timesteps, features]\n",
    "train_X = train_X.reshape((train_X.shape[0], 1, train_X.shape[1]))\n",
    "test_X = test_X.reshape((test_X.shape[0], 1, test_X.shape[1]))\n",
    "print(train_X.shape, train_y.shape, test_X.shape, test_y.shape)\n",
    " \n",
    "# design network\n",
    "model = Sequential()\n",
    "model.add(LSTM(50, input_shape=(train_X.shape[1], train_X.shape[2])))\n",
    "model.add(Dense(1))\n",
    "model.compile(loss='mae', optimizer='adam')\n",
    "# fit network\n",
    "history = model.fit(train_X, train_y, epochs=10, batch_size=72, validation_data=(test_X, test_y), verbose=2, shuffle=False)\n",
    "# plot history\n",
    "pyplot.plot(history.history['loss'], label='train')\n",
    "pyplot.plot(history.history['val_loss'], label='test')\n",
    "pyplot.legend()\n",
    "pyplot.show()\n",
    " \n",
    "\n"
   ]
  },
  {
   "cell_type": "code",
   "execution_count": null,
   "metadata": {
    "execution": {
     "iopub.execute_input": "2024-04-18T05:08:59.654515Z",
     "iopub.status.busy": "2024-04-18T05:08:59.654151Z",
     "iopub.status.idle": "2024-04-18T05:08:59.660805Z",
     "shell.execute_reply": "2024-04-18T05:08:59.659997Z",
     "shell.execute_reply.started": "2024-04-18T05:08:59.654482Z"
    }
   },
   "outputs": [],
   "source": [
    "test_X[:, :].shape\n"
   ]
  },
  {
   "cell_type": "code",
   "execution_count": null,
   "metadata": {
    "execution": {
     "iopub.execute_input": "2024-04-18T05:08:59.662406Z",
     "iopub.status.busy": "2024-04-18T05:08:59.662039Z",
     "iopub.status.idle": "2024-04-18T05:09:00.953213Z",
     "shell.execute_reply": "2024-04-18T05:09:00.952440Z",
     "shell.execute_reply.started": "2024-04-18T05:08:59.662373Z"
    }
   },
   "outputs": [],
   "source": [
    "yhat = model.predict(test_X)\n",
    "test_X = test_X.reshape((test_X.shape[0], test_X.shape[2]))\n",
    "\n",
    "\n"
   ]
  },
  {
   "cell_type": "code",
   "execution_count": null,
   "metadata": {
    "execution": {
     "iopub.execute_input": "2024-04-18T05:09:00.954574Z",
     "iopub.status.busy": "2024-04-18T05:09:00.954271Z",
     "iopub.status.idle": "2024-04-18T05:09:00.960077Z",
     "shell.execute_reply": "2024-04-18T05:09:00.959171Z",
     "shell.execute_reply.started": "2024-04-18T05:09:00.954548Z"
    }
   },
   "outputs": [],
   "source": [
    "test_X.shape"
   ]
  },
  {
   "cell_type": "code",
   "execution_count": null,
   "metadata": {
    "execution": {
     "iopub.execute_input": "2024-04-18T05:09:00.961412Z",
     "iopub.status.busy": "2024-04-18T05:09:00.961146Z",
     "iopub.status.idle": "2024-04-18T05:09:00.971167Z",
     "shell.execute_reply": "2024-04-18T05:09:00.970364Z",
     "shell.execute_reply.started": "2024-04-18T05:09:00.961390Z"
    }
   },
   "outputs": [],
   "source": [
    "yhat.shape\n",
    "\n"
   ]
  },
  {
   "cell_type": "code",
   "execution_count": null,
   "metadata": {
    "execution": {
     "iopub.execute_input": "2024-04-18T05:32:46.266216Z",
     "iopub.status.busy": "2024-04-18T05:32:46.265510Z",
     "iopub.status.idle": "2024-04-18T05:32:46.274998Z",
     "shell.execute_reply": "2024-04-18T05:32:46.274108Z",
     "shell.execute_reply.started": "2024-04-18T05:32:46.266185Z"
    }
   },
   "outputs": [],
   "source": [
    "# invert scaling for forecast\n",
    "# For t-2, t-1 timestamps\n",
    "inv_yhat = concatenate((yhat, test_X[:, 1:]), axis=1)\n",
    "inv_yhat =inv_yhat.reshape(-1,8)\n",
    "inv_yhat = scaler.inverse_transform(inv_yhat)\n",
    "inv_yhat = inv_yhat[:,0]\n"
   ]
  },
  {
   "cell_type": "code",
   "execution_count": null,
   "metadata": {
    "execution": {
     "iopub.execute_input": "2024-04-18T05:32:48.868584Z",
     "iopub.status.busy": "2024-04-18T05:32:48.867793Z",
     "iopub.status.idle": "2024-04-18T05:32:48.879516Z",
     "shell.execute_reply": "2024-04-18T05:32:48.878625Z",
     "shell.execute_reply.started": "2024-04-18T05:32:48.868552Z"
    }
   },
   "outputs": [],
   "source": [
    "# invert scaling for actual\n",
    "test_y = test_y.reshape((len(test_y), 1))\n",
    "inv_y = concatenate((test_y, test_X[:, 1:]), axis=1)\n",
    "inv_y = inv_y.reshape(-1,8)\n",
    "inv_y = scaler.inverse_transform(inv_y)\n",
    "inv_y = inv_y[:,0]\n",
    "# calculate RMSE\n",
    "rmse = sqrt(mean_squared_error(inv_y, inv_yhat))\n",
    "print('Test RMSE: %.3f' % rmse)\n"
   ]
  },
  {
   "cell_type": "code",
   "execution_count": null,
   "metadata": {},
   "outputs": [],
   "source": []
  },
  {
   "cell_type": "code",
   "execution_count": null,
   "metadata": {},
   "outputs": [],
   "source": [
    "yhat1 = model.predict(train_X)\n",
    "train_X = train_X.reshape((train_X.shape[0], train_X.shape[2]))\n",
    "                          # invert scaling for forecast train\n",
    "from numpy import concatenate\n",
    "inv_yhat1 = concatenate((yhat1, train_X[:, 1:]), axis=1)\n",
    "# inv_yhat1 = inv_yhat1.reshape(-1,8)\n",
    "# inv_yhat1 = scaler.inverse_transform(inv_yhat1)\n",
    "inv_yhat1 = inv_yhat1[:,0]\n",
    "                          # invert scaling for actual train\n",
    "train_y = train_y.reshape((len(train_y), 1))\n",
    "inv_y1 = concatenate((train_y, train_X[:, 1:]), axis=1)\n",
    "# inv_y1 = inv_y1.reshape(-1,8)\n",
    "# inv_y1 = scaler.inverse_transform(inv_y1)\n",
    "inv_y1 = inv_y1[:,0]\n",
    "                          \n",
    "from sklearn.metrics import mean_absolute_error, mean_squared_error, r2_score\n",
    "\n",
    "# Assuming y_true contains the actual target values and y_pred contains the predicted values\n",
    "mae = mean_absolute_error(inv_y1, inv_yhat1)\n",
    "mse = mean_squared_error(inv_y1, inv_yhat1)\n",
    "rmse = mean_squared_error(inv_y1, inv_yhat1, squared=False)\n",
    "\n",
    "print(\"Mean Absolute Error (MAE):\", mae)\n",
    "print(\"Mean Squared Error (MSE):\", mse)\n",
    "print(\"Root Mean Squared Error (RMSE):\", rmse)\n",
    "accurcay1 = r2_score(inv_y1, inv_yhat1)\n",
    "accurcay1"
   ]
  },
  {
   "cell_type": "code",
   "execution_count": null,
   "metadata": {},
   "outputs": [],
   "source": []
  },
  {
   "cell_type": "code",
   "execution_count": null,
   "metadata": {},
   "outputs": [],
   "source": []
  },
  {
   "cell_type": "code",
   "execution_count": null,
   "metadata": {},
   "outputs": [],
   "source": []
  }
 ],
 "metadata": {
  "kaggle": {
   "accelerator": "none",
   "dataSources": [
    {
     "datasetId": 4802232,
     "sourceId": 8125855,
     "sourceType": "datasetVersion"
    }
   ],
   "dockerImageVersionId": 30684,
   "isGpuEnabled": false,
   "isInternetEnabled": true,
   "language": "python",
   "sourceType": "notebook"
  },
  "kernelspec": {
   "display_name": "Python 3 (ipykernel)",
   "language": "python",
   "name": "python3"
  },
  "language_info": {
   "codemirror_mode": {
    "name": "ipython",
    "version": 3
   },
   "file_extension": ".py",
   "mimetype": "text/x-python",
   "name": "python",
   "nbconvert_exporter": "python",
   "pygments_lexer": "ipython3",
   "version": "3.11.7"
  }
 },
 "nbformat": 4,
 "nbformat_minor": 4
}
